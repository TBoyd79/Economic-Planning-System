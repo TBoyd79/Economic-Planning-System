{
 "cells": [
  {
   "cell_type": "markdown",
   "metadata": {},
   "source": [
    "#Import required libraries"
   ]
  },
  {
   "cell_type": "code",
   "execution_count": 16,
   "metadata": {},
   "outputs": [],
   "source": [
    "import numpy as np\n",
    "import pandas as pd"
   ]
  },
  {
   "cell_type": "markdown",
   "metadata": {},
   "source": [
    "#Prep data"
   ]
  },
  {
   "cell_type": "code",
   "execution_count": 17,
   "metadata": {},
   "outputs": [],
   "source": [
    "df = pd.read_csv('C:/Users/timho/Econ_Plan.csv', header=0)"
   ]
  },
  {
   "cell_type": "code",
   "execution_count": 18,
   "metadata": {},
   "outputs": [
    {
     "data": {
      "text/html": [
       "<div>\n",
       "<style scoped>\n",
       "    .dataframe tbody tr th:only-of-type {\n",
       "        vertical-align: middle;\n",
       "    }\n",
       "\n",
       "    .dataframe tbody tr th {\n",
       "        vertical-align: top;\n",
       "    }\n",
       "\n",
       "    .dataframe thead th {\n",
       "        text-align: right;\n",
       "    }\n",
       "</style>\n",
       "<table border=\"1\" class=\"dataframe\">\n",
       "  <thead>\n",
       "    <tr style=\"text-align: right;\">\n",
       "      <th></th>\n",
       "      <th>fips</th>\n",
       "      <th>state</th>\n",
       "      <th>area_name</th>\n",
       "      <th>urban_or_rural</th>\n",
       "      <th>ue_rate_2015</th>\n",
       "      <th>ue_rate_2016</th>\n",
       "      <th>ue_rate_2017</th>\n",
       "      <th>ue_rate_2018</th>\n",
       "      <th>ue_rate_2019</th>\n",
       "      <th>avg_ue_rate_chg</th>\n",
       "      <th>high_ue</th>\n",
       "      <th>main_industry</th>\n",
       "      <th>fossil_fuel</th>\n",
       "      <th>hhi_2019</th>\n",
       "    </tr>\n",
       "  </thead>\n",
       "  <tbody>\n",
       "    <tr>\n",
       "      <th>0</th>\n",
       "      <td>2270</td>\n",
       "      <td>AK</td>\n",
       "      <td>Kusilvak Census Area, AK</td>\n",
       "      <td>rural</td>\n",
       "      <td>23.1</td>\n",
       "      <td>21.6</td>\n",
       "      <td>19.6</td>\n",
       "      <td>19.6</td>\n",
       "      <td>19.3</td>\n",
       "      <td>-1.0</td>\n",
       "      <td>yes</td>\n",
       "      <td>retail</td>\n",
       "      <td>no</td>\n",
       "      <td>35,369</td>\n",
       "    </tr>\n",
       "    <tr>\n",
       "      <th>1</th>\n",
       "      <td>6025</td>\n",
       "      <td>CA</td>\n",
       "      <td>Imperial County, CA</td>\n",
       "      <td>urban</td>\n",
       "      <td>24.5</td>\n",
       "      <td>24.1</td>\n",
       "      <td>19.5</td>\n",
       "      <td>18.9</td>\n",
       "      <td>18.3</td>\n",
       "      <td>-1.6</td>\n",
       "      <td>yes</td>\n",
       "      <td>agriculture</td>\n",
       "      <td>no</td>\n",
       "      <td>48,102</td>\n",
       "    </tr>\n",
       "    <tr>\n",
       "      <th>2</th>\n",
       "      <td>4027</td>\n",
       "      <td>AZ</td>\n",
       "      <td>Yuma County, AZ</td>\n",
       "      <td>urban</td>\n",
       "      <td>21.7</td>\n",
       "      <td>18.8</td>\n",
       "      <td>16.9</td>\n",
       "      <td>16.7</td>\n",
       "      <td>16.4</td>\n",
       "      <td>-1.3</td>\n",
       "      <td>yes</td>\n",
       "      <td>agriculture</td>\n",
       "      <td>no</td>\n",
       "      <td>47,024</td>\n",
       "    </tr>\n",
       "    <tr>\n",
       "      <th>3</th>\n",
       "      <td>28063</td>\n",
       "      <td>MS</td>\n",
       "      <td>Jefferson County, MS</td>\n",
       "      <td>rural</td>\n",
       "      <td>14.8</td>\n",
       "      <td>14.9</td>\n",
       "      <td>14.6</td>\n",
       "      <td>13.2</td>\n",
       "      <td>15.5</td>\n",
       "      <td>0.2</td>\n",
       "      <td>yes</td>\n",
       "      <td>utilities</td>\n",
       "      <td>yes</td>\n",
       "      <td>30,871</td>\n",
       "    </tr>\n",
       "    <tr>\n",
       "      <th>4</th>\n",
       "      <td>2188</td>\n",
       "      <td>AK</td>\n",
       "      <td>Northwest Arctic Borough, AK</td>\n",
       "      <td>rural</td>\n",
       "      <td>16.0</td>\n",
       "      <td>16.0</td>\n",
       "      <td>16.1</td>\n",
       "      <td>13.6</td>\n",
       "      <td>14.0</td>\n",
       "      <td>-0.5</td>\n",
       "      <td>yes</td>\n",
       "      <td>transportation</td>\n",
       "      <td>no</td>\n",
       "      <td>61,660</td>\n",
       "    </tr>\n",
       "  </tbody>\n",
       "</table>\n",
       "</div>"
      ],
      "text/plain": [
       "    fips state                     area_name urban_or_rural  ue_rate_2015  \\\n",
       "0   2270    AK      Kusilvak Census Area, AK          rural          23.1   \n",
       "1   6025    CA           Imperial County, CA          urban          24.5   \n",
       "2   4027    AZ               Yuma County, AZ          urban          21.7   \n",
       "3  28063    MS          Jefferson County, MS          rural          14.8   \n",
       "4   2188    AK  Northwest Arctic Borough, AK          rural          16.0   \n",
       "\n",
       "   ue_rate_2016  ue_rate_2017  ue_rate_2018  ue_rate_2019  avg_ue_rate_chg  \\\n",
       "0          21.6          19.6          19.6          19.3             -1.0   \n",
       "1          24.1          19.5          18.9          18.3             -1.6   \n",
       "2          18.8          16.9          16.7          16.4             -1.3   \n",
       "3          14.9          14.6          13.2          15.5              0.2   \n",
       "4          16.0          16.1          13.6          14.0             -0.5   \n",
       "\n",
       "  high_ue   main_industry fossil_fuel hhi_2019  \n",
       "0     yes          retail          no   35,369  \n",
       "1     yes     agriculture          no   48,102  \n",
       "2     yes     agriculture          no   47,024  \n",
       "3     yes       utilities         yes   30,871  \n",
       "4     yes  transportation          no   61,660  "
      ]
     },
     "execution_count": 18,
     "metadata": {},
     "output_type": "execute_result"
    }
   ],
   "source": [
    "df.head()"
   ]
  },
  {
   "cell_type": "code",
   "execution_count": 25,
   "metadata": {},
   "outputs": [
    {
     "data": {
      "text/plain": [
       "area_name           object\n",
       "urban_or_rural      object\n",
       "ue_rate_2015       float64\n",
       "ue_rate_2019       float64\n",
       "avg_ue_rate_chg    float64\n",
       "main_industry       object\n",
       "fossil_fuel         object\n",
       "dtype: object"
      ]
     },
     "execution_count": 25,
     "metadata": {},
     "output_type": "execute_result"
    }
   ],
   "source": [
    "df.dtypes"
   ]
  },
  {
   "cell_type": "code",
   "execution_count": 26,
   "metadata": {},
   "outputs": [],
   "source": [
    "df = df[['area_name', 'urban_or_rural', 'ue_rate_2015', 'ue_rate_2019', 'avg_ue_rate_chg', 'main_industry', 'fossil_fuel']]"
   ]
  },
  {
   "cell_type": "code",
   "execution_count": 27,
   "metadata": {},
   "outputs": [
    {
     "data": {
      "text/html": [
       "<div>\n",
       "<style scoped>\n",
       "    .dataframe tbody tr th:only-of-type {\n",
       "        vertical-align: middle;\n",
       "    }\n",
       "\n",
       "    .dataframe tbody tr th {\n",
       "        vertical-align: top;\n",
       "    }\n",
       "\n",
       "    .dataframe thead th {\n",
       "        text-align: right;\n",
       "    }\n",
       "</style>\n",
       "<table border=\"1\" class=\"dataframe\">\n",
       "  <thead>\n",
       "    <tr style=\"text-align: right;\">\n",
       "      <th></th>\n",
       "      <th>area_name</th>\n",
       "      <th>urban_or_rural</th>\n",
       "      <th>ue_rate_2015</th>\n",
       "      <th>ue_rate_2019</th>\n",
       "      <th>avg_ue_rate_chg</th>\n",
       "      <th>main_industry</th>\n",
       "      <th>fossil_fuel</th>\n",
       "    </tr>\n",
       "  </thead>\n",
       "  <tbody>\n",
       "    <tr>\n",
       "      <th>0</th>\n",
       "      <td>Kusilvak Census Area, AK</td>\n",
       "      <td>rural</td>\n",
       "      <td>23.1</td>\n",
       "      <td>19.3</td>\n",
       "      <td>-1.0</td>\n",
       "      <td>retail</td>\n",
       "      <td>no</td>\n",
       "    </tr>\n",
       "    <tr>\n",
       "      <th>1</th>\n",
       "      <td>Imperial County, CA</td>\n",
       "      <td>urban</td>\n",
       "      <td>24.5</td>\n",
       "      <td>18.3</td>\n",
       "      <td>-1.6</td>\n",
       "      <td>agriculture</td>\n",
       "      <td>no</td>\n",
       "    </tr>\n",
       "    <tr>\n",
       "      <th>2</th>\n",
       "      <td>Yuma County, AZ</td>\n",
       "      <td>urban</td>\n",
       "      <td>21.7</td>\n",
       "      <td>16.4</td>\n",
       "      <td>-1.3</td>\n",
       "      <td>agriculture</td>\n",
       "      <td>no</td>\n",
       "    </tr>\n",
       "    <tr>\n",
       "      <th>3</th>\n",
       "      <td>Jefferson County, MS</td>\n",
       "      <td>rural</td>\n",
       "      <td>14.8</td>\n",
       "      <td>15.5</td>\n",
       "      <td>0.2</td>\n",
       "      <td>utilities</td>\n",
       "      <td>yes</td>\n",
       "    </tr>\n",
       "    <tr>\n",
       "      <th>4</th>\n",
       "      <td>Northwest Arctic Borough, AK</td>\n",
       "      <td>rural</td>\n",
       "      <td>16.0</td>\n",
       "      <td>14.0</td>\n",
       "      <td>-0.5</td>\n",
       "      <td>transportation</td>\n",
       "      <td>no</td>\n",
       "    </tr>\n",
       "  </tbody>\n",
       "</table>\n",
       "</div>"
      ],
      "text/plain": [
       "                      area_name urban_or_rural  ue_rate_2015  ue_rate_2019  \\\n",
       "0      Kusilvak Census Area, AK          rural          23.1          19.3   \n",
       "1           Imperial County, CA          urban          24.5          18.3   \n",
       "2               Yuma County, AZ          urban          21.7          16.4   \n",
       "3          Jefferson County, MS          rural          14.8          15.5   \n",
       "4  Northwest Arctic Borough, AK          rural          16.0          14.0   \n",
       "\n",
       "   avg_ue_rate_chg   main_industry fossil_fuel  \n",
       "0             -1.0          retail          no  \n",
       "1             -1.6     agriculture          no  \n",
       "2             -1.3     agriculture          no  \n",
       "3              0.2       utilities         yes  \n",
       "4             -0.5  transportation          no  "
      ]
     },
     "execution_count": 27,
     "metadata": {},
     "output_type": "execute_result"
    }
   ],
   "source": [
    "df.head()"
   ]
  },
  {
   "cell_type": "code",
   "execution_count": 32,
   "metadata": {},
   "outputs": [
    {
     "data": {
      "text/plain": [
       "area_name           object\n",
       "urban_or_rural      object\n",
       "ue_rate_2015       float64\n",
       "ue_rate_2019       float64\n",
       "avg_ue_rate_chg    float64\n",
       "main_industry       object\n",
       "fossil_fuel         object\n",
       "dtype: object"
      ]
     },
     "execution_count": 32,
     "metadata": {},
     "output_type": "execute_result"
    }
   ],
   "source": [
    "df.dtypes"
   ]
  },
  {
   "cell_type": "markdown",
   "metadata": {},
   "source": [
    "#Filter and sort desired records"
   ]
  },
  {
   "cell_type": "code",
   "execution_count": 41,
   "metadata": {},
   "outputs": [],
   "source": [
    "newdf = df[(df.ue_rate_2019 > 6.0) | (df.avg_ue_rate_chg > 0.0)]"
   ]
  },
  {
   "cell_type": "code",
   "execution_count": 42,
   "metadata": {},
   "outputs": [
    {
     "data": {
      "text/html": [
       "<div>\n",
       "<style scoped>\n",
       "    .dataframe tbody tr th:only-of-type {\n",
       "        vertical-align: middle;\n",
       "    }\n",
       "\n",
       "    .dataframe tbody tr th {\n",
       "        vertical-align: top;\n",
       "    }\n",
       "\n",
       "    .dataframe thead th {\n",
       "        text-align: right;\n",
       "    }\n",
       "</style>\n",
       "<table border=\"1\" class=\"dataframe\">\n",
       "  <thead>\n",
       "    <tr style=\"text-align: right;\">\n",
       "      <th></th>\n",
       "      <th>area_name</th>\n",
       "      <th>urban_or_rural</th>\n",
       "      <th>ue_rate_2015</th>\n",
       "      <th>ue_rate_2019</th>\n",
       "      <th>avg_ue_rate_chg</th>\n",
       "      <th>main_industry</th>\n",
       "      <th>fossil_fuel</th>\n",
       "    </tr>\n",
       "  </thead>\n",
       "  <tbody>\n",
       "    <tr>\n",
       "      <th>0</th>\n",
       "      <td>Kusilvak Census Area, AK</td>\n",
       "      <td>rural</td>\n",
       "      <td>23.1</td>\n",
       "      <td>19.3</td>\n",
       "      <td>-1.0</td>\n",
       "      <td>retail</td>\n",
       "      <td>no</td>\n",
       "    </tr>\n",
       "    <tr>\n",
       "      <th>1</th>\n",
       "      <td>Imperial County, CA</td>\n",
       "      <td>urban</td>\n",
       "      <td>24.5</td>\n",
       "      <td>18.3</td>\n",
       "      <td>-1.6</td>\n",
       "      <td>agriculture</td>\n",
       "      <td>no</td>\n",
       "    </tr>\n",
       "    <tr>\n",
       "      <th>2</th>\n",
       "      <td>Yuma County, AZ</td>\n",
       "      <td>urban</td>\n",
       "      <td>21.7</td>\n",
       "      <td>16.4</td>\n",
       "      <td>-1.3</td>\n",
       "      <td>agriculture</td>\n",
       "      <td>no</td>\n",
       "    </tr>\n",
       "    <tr>\n",
       "      <th>3</th>\n",
       "      <td>Jefferson County, MS</td>\n",
       "      <td>rural</td>\n",
       "      <td>14.8</td>\n",
       "      <td>15.5</td>\n",
       "      <td>0.2</td>\n",
       "      <td>utilities</td>\n",
       "      <td>yes</td>\n",
       "    </tr>\n",
       "    <tr>\n",
       "      <th>4</th>\n",
       "      <td>Northwest Arctic Borough, AK</td>\n",
       "      <td>rural</td>\n",
       "      <td>16.0</td>\n",
       "      <td>14.0</td>\n",
       "      <td>-0.5</td>\n",
       "      <td>transportation</td>\n",
       "      <td>no</td>\n",
       "    </tr>\n",
       "  </tbody>\n",
       "</table>\n",
       "</div>"
      ],
      "text/plain": [
       "                      area_name urban_or_rural  ue_rate_2015  ue_rate_2019  \\\n",
       "0      Kusilvak Census Area, AK          rural          23.1          19.3   \n",
       "1           Imperial County, CA          urban          24.5          18.3   \n",
       "2               Yuma County, AZ          urban          21.7          16.4   \n",
       "3          Jefferson County, MS          rural          14.8          15.5   \n",
       "4  Northwest Arctic Borough, AK          rural          16.0          14.0   \n",
       "\n",
       "   avg_ue_rate_chg   main_industry fossil_fuel  \n",
       "0             -1.0          retail          no  \n",
       "1             -1.6     agriculture          no  \n",
       "2             -1.3     agriculture          no  \n",
       "3              0.2       utilities         yes  \n",
       "4             -0.5  transportation          no  "
      ]
     },
     "execution_count": 42,
     "metadata": {},
     "output_type": "execute_result"
    }
   ],
   "source": [
    "newdf.head()"
   ]
  },
  {
   "cell_type": "code",
   "execution_count": null,
   "metadata": {},
   "outputs": [],
   "source": []
  }
 ],
 "metadata": {
  "kernelspec": {
   "display_name": "Python 3",
   "language": "python",
   "name": "python3"
  },
  "language_info": {
   "codemirror_mode": {
    "name": "ipython",
    "version": 3
   },
   "file_extension": ".py",
   "mimetype": "text/x-python",
   "name": "python",
   "nbconvert_exporter": "python",
   "pygments_lexer": "ipython3",
   "version": "3.8.5"
  }
 },
 "nbformat": 4,
 "nbformat_minor": 2
}
